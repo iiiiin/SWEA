{
 "cells": [
  {
   "cell_type": "code",
   "execution_count": null,
   "metadata": {},
   "outputs": [],
   "source": [
    "# 백만장자 프로젝트\n",
    "\n",
    "t = int(input())\n",
    "for i in range(t):\n",
    "    n = int(input())\n",
    "    price = list(map(int, input().split()))\n",
    "    "
   ]
  },
  {
   "cell_type": "code",
   "execution_count": 130,
   "metadata": {},
   "outputs": [
    {
     "name": "stdout",
     "output_type": "stream",
     "text": [
      "#1\n",
      "1 2 3\n",
      "8 9 4\n",
      "7 6 5\n",
      "#2\n",
      "1 2 3 4\n",
      "12 13 14 5\n",
      "11 16 15 6\n",
      "10 9 8 7\n"
     ]
    }
   ],
   "source": [
    "# 1954\n",
    "# 달팽이 숫자\n",
    "\n",
    "T = int(input())\n",
    "for test_case in range(1, T+1):\n",
    "    n = int(input())\n",
    "    x, y = 0, 0\n",
    "    dir = 0\n",
    "    snail = [[0 for _ in range(n)] for _ in range(n)]\n",
    "    for i in range(1, n*n+1):\n",
    "        if dir == 0:\n",
    "            if y < n-1 and snail[x][y+1] != 0:\n",
    "                dir += 1\n",
    "                snail[x][y] = i\n",
    "                x += 1\n",
    "                continue\n",
    "            elif y < n-1 and snail[x][y+1] == 0:\n",
    "                snail[x][y] = i\n",
    "                y += 1\n",
    "            else:\n",
    "                snail[x][y] = i\n",
    "                dir += 1\n",
    "                x += 1\n",
    "                continue\n",
    "        elif dir == 1:\n",
    "            if x < n-1 and snail[x+1][y] != 0:\n",
    "                dir += 1\n",
    "                snail[x][y] = i\n",
    "                y -= 1\n",
    "                continue\n",
    "            elif x < n-1 and snail[x+1][y] == 0:\n",
    "                snail[x][y] = i\n",
    "                x += 1\n",
    "            else:\n",
    "                snail[x][y] = i\n",
    "                dir += 1\n",
    "                y -= 1\n",
    "                continue\n",
    "        elif dir == 2:\n",
    "            if y > 0 and snail[x][y-1] != 0:\n",
    "                dir += 1\n",
    "                snail[x][y] = i\n",
    "                x -= 1\n",
    "                continue\n",
    "            elif y > 0 and snail[x][y-1] == 0:\n",
    "                snail[x][y] = i\n",
    "                y -= 1\n",
    "            else:\n",
    "                snail[x][y] = i\n",
    "                dir += 1\n",
    "                x -= 1\n",
    "                continue\n",
    "        elif dir == 3:\n",
    "            if x > 0 and snail[x-1][y] != 0:\n",
    "                dir = 0\n",
    "                snail[x][y] = i\n",
    "                y += 1\n",
    "                continue\n",
    "            elif x > 0 and snail[x-1][y] == 0:\n",
    "                snail[x][y] = i\n",
    "                x -= 1\n",
    "            else:\n",
    "                snail[x][y] = i\n",
    "                dir = 0 \n",
    "                y += 1\n",
    "                continue\n",
    "    print(\"#\"+str(test_case))\n",
    "    for i in range(n):\n",
    "        print(*snail[i])"
   ]
  },
  {
   "cell_type": "code",
   "execution_count": 4,
   "metadata": {},
   "outputs": [
    {
     "name": "stdout",
     "output_type": "stream",
     "text": [
      "0 0 0 0 0 1 1 1\n"
     ]
    }
   ],
   "source": [
    "# 1970\n",
    "# 쉬운 거스름돈\n",
    "\n",
    "n = int(input())\n",
    "cash_list = [50000, 10000, 5000, 1000, 500, 100, 50, 10]\n",
    "count = []\n",
    "\n",
    "for cash in cash_list:\n",
    "    if n >= cash:\n",
    "        count.append(n // cash)\n",
    "        n %= cash\n",
    "    else:\n",
    "        count.append(0)\n",
    "print(\"#\"+str(i+1))\n",
    "print(*count)"
   ]
  },
  {
   "cell_type": "code",
   "execution_count": 8,
   "metadata": {},
   "outputs": [
    {
     "name": "stdout",
     "output_type": "stream",
     "text": [
      "#5 A full belly is the mother of all evil.\n"
     ]
    }
   ],
   "source": [
    "# 1928\n",
    "# Base64 Decoder\n",
    "\n",
    "T = int(input())\n",
    "for test_case in range(1,T+1):\n",
    "    encoded = input()\n",
    "    decoded = \"\"\n",
    "    for s in range(len(encoded)):\n",
    "        if encoded[s].isupper():\n",
    "            decoded += str(format((ord(encoded[s]) - 65), '06b'))\n",
    "        elif encoded[s].islower():\n",
    "            decoded +=  str(format((ord(encoded[s]) - 71), '06b'))\n",
    "        elif encoded[s].isdigit():\n",
    "            decoded +=  str(format((ord(encoded[s]) + 4), '06b'))\n",
    "        elif encoded[s] == \"+\":\n",
    "            decoded +=  str(format(62, '06b'))\n",
    "        elif encoded[s] == \"/\":\n",
    "            decoded +=  str(format(63, '06b'))\n",
    "    result = []\n",
    "    for j in range(0,len(decoded),8):\n",
    "        result.append(chr(int(decoded[j:j+8], 2)))\n",
    "\n",
    "    print(\"#\"+str(test_case)+\" \"+\"\".join(result))"
   ]
  },
  {
   "cell_type": "code",
   "execution_count": 20,
   "metadata": {},
   "outputs": [
    {
     "name": "stdout",
     "output_type": "stream",
     "text": [
      "[6, 0, 5, 5, -1, 1]\n",
      "[0, 5, 5, -1, 1, 6]\n",
      "#1 63\n"
     ]
    }
   ],
   "source": [
    "# 1959\n",
    "# 두 개의 숫자열\n",
    "\n",
    "T = int(input())\n",
    "for test_case in range(1,T+1):\n",
    "    result = - 11\n",
    "    n, m = map(int, input().split())\n",
    "    aj = list(map(int, input().split()))\n",
    "    bj = list(map(int, input().split()))\n",
    "    if len(aj) == len(bj):\n",
    "        result = sum([aj[i]*bj[i] for i in range(len(aj))])\n",
    "    elif len(aj) > len(bj):\n",
    "        for i in range(len(aj)-len(bj)+1):\n",
    "            aj_temp = aj[i:i+len(bj)]\n",
    "            result = max(result, sum([aj_temp[j]*bj[j] for j in range(len(bj))]))\n",
    "    elif len(aj) < len(bj):\n",
    "        for i in range(len(bj)-len(aj)+1):\n",
    "            bj_temp = bj[i:i+len(aj)]\n",
    "            result = max(result, sum([aj[j]*bj_temp[j] for j in range(len(aj))]))\n",
    "    print(\"#\" + str(test_case) + \" \" + str(result))\n"
   ]
  },
  {
   "cell_type": "code",
   "execution_count": 39,
   "metadata": {},
   "outputs": [
    {
     "name": "stdout",
     "output_type": "stream",
     "text": [
      "#1 10\n",
      "#2 90\n",
      "#3 110\n",
      "#4 6475\n",
      "#5 5076\n"
     ]
    }
   ],
   "source": [
    "# 1288\n",
    "# 새로운 불면증 치료법\n",
    "\n",
    "\n",
    "T = int(input())\n",
    "for test_case in range(1, T+1):\n",
    "    zero_to_nine = list(map(str, range(10)))\n",
    "    n = int(input())\n",
    "    cnt = 1\n",
    "    origin_num = n\n",
    "    while True:\n",
    "        n = str(n)\n",
    "        for i in range(len(n)):\n",
    "            test_num = int(n[i])\n",
    "            if zero_to_nine[test_num] == str(test_num):\n",
    "                zero_to_nine[test_num] = \"\"\n",
    "            result = n\n",
    "        cnt += 1\n",
    "        n = origin_num * cnt\n",
    "\n",
    "        if len(\"\".join(zero_to_nine)) == 0:\n",
    "            break\n",
    "\n",
    "    print(\"#\"+str(test_case)+\" \"+result)"
   ]
  }
 ],
 "metadata": {
  "kernelspec": {
   "display_name": "base",
   "language": "python",
   "name": "python3"
  },
  "language_info": {
   "codemirror_mode": {
    "name": "ipython",
    "version": 3
   },
   "file_extension": ".py",
   "mimetype": "text/x-python",
   "name": "python",
   "nbconvert_exporter": "python",
   "pygments_lexer": "ipython3",
   "version": "3.12.4"
  }
 },
 "nbformat": 4,
 "nbformat_minor": 2
}
